{
 "cells": [
  {
   "cell_type": "code",
   "execution_count": 2,
   "id": "ffd23e7d-a09c-450a-b034-add5c0da0076",
   "metadata": {},
   "outputs": [
    {
     "name": "stdin",
     "output_type": "stream",
     "text": [
      "What's your name? Juniper\n"
     ]
    }
   ],
   "source": [
    "name = input(prompt=\"What's your name?\")"
   ]
  },
  {
   "cell_type": "code",
   "execution_count": 3,
   "id": "b771a14b-b125-4c19-a5d5-4d75fa73fe15",
   "metadata": {},
   "outputs": [
    {
     "name": "stdin",
     "output_type": "stream",
     "text": [
      "How old are you? 23\n"
     ]
    }
   ],
   "source": [
    "age = input(prompt=\"How old are you?\")"
   ]
  },
  {
   "cell_type": "code",
   "execution_count": 4,
   "id": "2aaf23f3-20c9-41e4-bef8-977e50cf1032",
   "metadata": {},
   "outputs": [
    {
     "name": "stdout",
     "output_type": "stream",
     "text": [
      "Hi Juniper ! You are 23 years old.\n"
     ]
    }
   ],
   "source": [
    "print(\"Hi\", name, \"! You are\", age, \"years old.\")"
   ]
  }
 ],
 "metadata": {
  "kernelspec": {
   "display_name": "Python 3 (ipykernel)",
   "language": "python",
   "name": "python3"
  },
  "language_info": {
   "codemirror_mode": {
    "name": "ipython",
    "version": 3
   },
   "file_extension": ".py",
   "mimetype": "text/x-python",
   "name": "python",
   "nbconvert_exporter": "python",
   "pygments_lexer": "ipython3",
   "version": "3.12.4"
  }
 },
 "nbformat": 4,
 "nbformat_minor": 5
}
